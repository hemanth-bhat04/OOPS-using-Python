{
 "cells": [
  {
   "cell_type": "code",
   "execution_count": 56,
   "id": "aa8e4a3d",
   "metadata": {},
   "outputs": [],
   "source": [
    "##creating our first class with data members and methods\n",
    "class student:\n",
    "    numberOfStudents = 0\n",
    "    def __init__(self,name,rollno,marks):\n",
    "        #print(id(self))\n",
    "       \n",
    "        self.name = name\n",
    "        self.rollno = rollno\n",
    "        self.marks = marks\n",
    "        self.numberOfStudents = student.numberOfStudents+1\n",
    "        student.numberOfStudents = student.numberOfStudents+1\n",
    "    def study(self):\n",
    "        print(\"I am \"+self.name+\" and I am studying\")\n",
    "    def play():\n",
    "        print(\"I am playing since studying done\")"
   ]
  },
  {
   "cell_type": "code",
   "execution_count": 57,
   "id": "36227df8",
   "metadata": {},
   "outputs": [
    {
     "data": {
      "text/plain": [
       "('Mayank', 21, 100)"
      ]
     },
     "execution_count": 57,
     "metadata": {},
     "output_type": "execute_result"
    }
   ],
   "source": [
    "s1 = student(\"Mayank\",21,100)\n",
    "s1.name,s1.rollno,s1.marks"
   ]
  },
  {
   "cell_type": "code",
   "execution_count": 58,
   "id": "0fef586d",
   "metadata": {},
   "outputs": [
    {
     "name": "stdout",
     "output_type": "stream",
     "text": [
      "I am Mayank and I am studying\n"
     ]
    }
   ],
   "source": [
    "##call method\n",
    "s1.study()"
   ]
  },
  {
   "cell_type": "code",
   "execution_count": 59,
   "id": "d405a47b",
   "metadata": {},
   "outputs": [
    {
     "data": {
      "text/plain": [
       "('Hemanth', 21, 100)"
      ]
     },
     "execution_count": 59,
     "metadata": {},
     "output_type": "execute_result"
    }
   ],
   "source": [
    "s2 = student(\"Hemanth\",21,100)\n",
    "s2.name,s2.rollno,s2.marks"
   ]
  },
  {
   "cell_type": "code",
   "execution_count": 60,
   "id": "42834d87",
   "metadata": {},
   "outputs": [
    {
     "name": "stdout",
     "output_type": "stream",
     "text": [
      "I am Hemanth and I am studying\n"
     ]
    }
   ],
   "source": [
    "s2.study()"
   ]
  },
  {
   "cell_type": "code",
   "execution_count": 61,
   "id": "6c866c05",
   "metadata": {},
   "outputs": [
    {
     "data": {
      "text/plain": [
       "(1, 2)"
      ]
     },
     "execution_count": 61,
     "metadata": {},
     "output_type": "execute_result"
    }
   ],
   "source": [
    "  s1.numberOfStudents,s2.numberOfStudents"
   ]
  },
  {
   "cell_type": "code",
   "execution_count": null,
   "id": "7b573867",
   "metadata": {},
   "outputs": [],
   "source": []
  }
 ],
 "metadata": {
  "kernelspec": {
   "display_name": "Python 3 (ipykernel)",
   "language": "python",
   "name": "python3"
  },
  "language_info": {
   "codemirror_mode": {
    "name": "ipython",
    "version": 3
   },
   "file_extension": ".py",
   "mimetype": "text/x-python",
   "name": "python",
   "nbconvert_exporter": "python",
   "pygments_lexer": "ipython3",
   "version": "3.10.9"
  }
 },
 "nbformat": 4,
 "nbformat_minor": 5
}
