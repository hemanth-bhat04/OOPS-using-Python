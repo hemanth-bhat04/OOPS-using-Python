{
 "cells": [
  {
   "cell_type": "code",
   "execution_count": 85,
   "id": "3a0a2d60",
   "metadata": {},
   "outputs": [],
   "source": [
    "#Creating complex number class\n",
    "class complexNumber:\n",
    "    def __init__(self,real=0.0,imag=0.0):\n",
    "        self.imag=imag\n",
    "        self.real=real\n",
    "    def __str__(self):  #magic method\n",
    "        if(self.real==0):\n",
    "            return f\"{self.imag}i\"\n",
    "        elif(self.imag<0):\n",
    "            s = f\"{self.real}{self.imag}i\"\n",
    "        else:   \n",
    "            s = f\"{self.real}+{self.imag}i\"\n",
    "        return s\n",
    "  #defining operation methods using magic methods(dunder)\n",
    "    def __add__(self,other):\n",
    "        resultReal = 0\n",
    "        resultImag = 0 \n",
    "        resultReal = self.real + other.real\n",
    "        resultImag = self.imag + other.imag\n",
    "        ans = complexNumber(resultReal,resultImag)\n",
    "        return ans\n",
    "    def __sub__(self,other):\n",
    "        resultReal = 0\n",
    "        resultImag = 0 \n",
    "        resultReal = self.real - other.real\n",
    "        resultImag = self.imag - other.imag\n",
    "        ans = complexNumber(resultReal,resultImag)\n",
    "        return ans\n",
    "    def __mul__(self,other):\n",
    "        resultReal = 0\n",
    "        resultImag = 0 \n",
    "        resultReal = self.real*other.real - self.imag*other.imag\n",
    "        resultImag = self.real*other.imag + other.real * self.imag\n",
    "        ans = complexNumber(resultReal,resultImag)\n",
    "        return ans\n",
    "    def __truediv__(self,other):\n",
    "        resultReal = 0\n",
    "        resultImag = 0 \n",
    "        den = other.real**2 + other.imag**2\n",
    "        ans = self * complexNumber(other.real/den,(-1*other.imag)/den)\n",
    "        return ans\n",
    "    def conjugate(self):\n",
    "        return complexNumber(self.real,-1*self.imag)\n",
    "        "
   ]
  },
  {
   "cell_type": "code",
   "execution_count": 86,
   "id": "1e970d9e",
   "metadata": {},
   "outputs": [],
   "source": [
    "cn1 = complexNumber(1,2)\n",
    "cn2 = complexNumber(3,4)"
   ]
  },
  {
   "cell_type": "code",
   "execution_count": 87,
   "id": "44c773da",
   "metadata": {},
   "outputs": [
    {
     "name": "stdout",
     "output_type": "stream",
     "text": [
      "4+6i\n"
     ]
    }
   ],
   "source": [
    "print(cn1+cn2)"
   ]
  },
  {
   "cell_type": "code",
   "execution_count": 88,
   "id": "a1c44afc",
   "metadata": {},
   "outputs": [
    {
     "name": "stdout",
     "output_type": "stream",
     "text": [
      "1+2i\n"
     ]
    }
   ],
   "source": [
    "print(cn1)"
   ]
  },
  {
   "cell_type": "code",
   "execution_count": 89,
   "id": "2005b84d",
   "metadata": {},
   "outputs": [
    {
     "name": "stdout",
     "output_type": "stream",
     "text": [
      "-2-2i\n"
     ]
    }
   ],
   "source": [
    "print(cn1-cn2)"
   ]
  },
  {
   "cell_type": "code",
   "execution_count": 90,
   "id": "e35f77da",
   "metadata": {},
   "outputs": [
    {
     "name": "stdout",
     "output_type": "stream",
     "text": [
      "-5+10i\n"
     ]
    }
   ],
   "source": [
    "print(cn1*cn2)"
   ]
  },
  {
   "cell_type": "code",
   "execution_count": 91,
   "id": "fb78190f",
   "metadata": {},
   "outputs": [
    {
     "name": "stdout",
     "output_type": "stream",
     "text": [
      "0.44+0.07999999999999999i\n"
     ]
    }
   ],
   "source": [
    "print(cn1/cn2)"
   ]
  },
  {
   "cell_type": "code",
   "execution_count": null,
   "id": "efe4321e",
   "metadata": {},
   "outputs": [],
   "source": []
  }
 ],
 "metadata": {
  "kernelspec": {
   "display_name": "Python 3 (ipykernel)",
   "language": "python",
   "name": "python3"
  },
  "language_info": {
   "codemirror_mode": {
    "name": "ipython",
    "version": 3
   },
   "file_extension": ".py",
   "mimetype": "text/x-python",
   "name": "python",
   "nbconvert_exporter": "python",
   "pygments_lexer": "ipython3",
   "version": "3.10.9"
  }
 },
 "nbformat": 4,
 "nbformat_minor": 5
}
