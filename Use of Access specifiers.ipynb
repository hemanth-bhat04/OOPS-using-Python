{
 "cells": [
  {
   "cell_type": "code",
   "execution_count": 26,
   "id": "92e8d5cd",
   "metadata": {},
   "outputs": [],
   "source": [
    "##creating our first class with data members and methods\n",
    "class student:\n",
    "    numberOfStudents = 0\n",
    "    def __init__(self,name,rollno,marks):\n",
    "        #print(id(self))\n",
    "       \n",
    "        self.name = name\n",
    "        self.rollno = rollno\n",
    "        self.__marks = marks #private specified by __marks\n",
    "        self.numberOfStudents = student.numberOfStudents+1\n",
    "        student.numberOfStudents = student.numberOfStudents+1\n",
    "        \n",
    "    #getter\n",
    "    def getMarks(self):\n",
    "        return self.__marks\n",
    "    \n",
    "    #setter\n",
    "    def setMarks(self,newMarks,passcode):\n",
    "        if(passcode == '1234'):#added a security feature\n",
    "             self.__marks = newMarks\n",
    "        else:\n",
    "            return(\"You are not authorised to set marks\") \n",
    "        \n",
    "    def study(self):\n",
    "        print(\"I am \"+self.name+\" and I am studying\")\n",
    "        \n",
    "    def play():\n",
    "        print(\"I am playing since studying done\")"
   ]
  },
  {
   "cell_type": "code",
   "execution_count": 27,
   "id": "4c66be9d",
   "metadata": {},
   "outputs": [],
   "source": [
    "s1 = student(\"Mayank\",21,90)\n",
    "s2 = student(\"Hemanth\",21,75)"
   ]
  },
  {
   "cell_type": "code",
   "execution_count": 28,
   "id": "94d676bd",
   "metadata": {},
   "outputs": [
    {
     "data": {
      "text/plain": [
       "90"
      ]
     },
     "execution_count": 28,
     "metadata": {},
     "output_type": "execute_result"
    }
   ],
   "source": [
    "s1.getMarks()"
   ]
  },
  {
   "cell_type": "code",
   "execution_count": 29,
   "id": "85c45f77",
   "metadata": {},
   "outputs": [
    {
     "data": {
      "text/plain": [
       "75"
      ]
     },
     "execution_count": 29,
     "metadata": {},
     "output_type": "execute_result"
    }
   ],
   "source": [
    "s2.getMarks()"
   ]
  },
  {
   "cell_type": "code",
   "execution_count": 30,
   "id": "1c9804a3",
   "metadata": {},
   "outputs": [],
   "source": [
    "s1.setMarks(98,\"1234\")"
   ]
  },
  {
   "cell_type": "code",
   "execution_count": 31,
   "id": "5716cd55",
   "metadata": {},
   "outputs": [
    {
     "data": {
      "text/plain": [
       "98"
      ]
     },
     "execution_count": 31,
     "metadata": {},
     "output_type": "execute_result"
    }
   ],
   "source": [
    "s1.getMarks()"
   ]
  },
  {
   "cell_type": "code",
   "execution_count": null,
   "id": "c9af9326",
   "metadata": {},
   "outputs": [],
   "source": []
  }
 ],
 "metadata": {
  "kernelspec": {
   "display_name": "Python 3 (ipykernel)",
   "language": "python",
   "name": "python3"
  },
  "language_info": {
   "codemirror_mode": {
    "name": "ipython",
    "version": 3
   },
   "file_extension": ".py",
   "mimetype": "text/x-python",
   "name": "python",
   "nbconvert_exporter": "python",
   "pygments_lexer": "ipython3",
   "version": "3.10.9"
  }
 },
 "nbformat": 4,
 "nbformat_minor": 5
}
