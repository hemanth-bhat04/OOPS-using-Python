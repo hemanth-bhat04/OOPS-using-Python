{
 "cells": [
  {
   "cell_type": "markdown",
   "id": "78bdd00d",
   "metadata": {},
   "source": [
    "# Abstraction"
   ]
  },
  {
   "cell_type": "code",
   "execution_count": 8,
   "id": "e7d4c5f5",
   "metadata": {},
   "outputs": [],
   "source": [
    "from abc import ABC,abstractmethod"
   ]
  },
  {
   "cell_type": "code",
   "execution_count": 9,
   "id": "34c69ad9",
   "metadata": {},
   "outputs": [],
   "source": [
    "class User(ABC):\n",
    "    \n",
    "    @abstractmethod\n",
    "    def login(self):\n",
    "        pass\n",
    "    def logout(self):\n",
    "        print(\"Logout\")\n",
    "    \n",
    "    @abstractmethod\n",
    "    def auth(self):\n",
    "        pass"
   ]
  },
  {
   "cell_type": "code",
   "execution_count": 10,
   "id": "4f9fcbb8",
   "metadata": {},
   "outputs": [],
   "source": [
    "class Buyer(User):\n",
    "    \n",
    "    def login(self):\n",
    "        if(self.auth):\n",
    "            print(\"loggin in user\")\n",
    "    def checkObject(self,link):\n",
    "        print(link)\n",
    "    \n",
    "    def auth(self):\n",
    "        return True"
   ]
  },
  {
   "cell_type": "code",
   "execution_count": 11,
   "id": "0f6ff253",
   "metadata": {},
   "outputs": [],
   "source": [
    "b1 = Buyer()"
   ]
  },
  {
   "cell_type": "code",
   "execution_count": 12,
   "id": "570bfb93",
   "metadata": {},
   "outputs": [
    {
     "data": {
      "text/plain": [
       "True"
      ]
     },
     "execution_count": 12,
     "metadata": {},
     "output_type": "execute_result"
    }
   ],
   "source": [
    "b1.auth()"
   ]
  },
  {
   "cell_type": "code",
   "execution_count": null,
   "id": "985b96f5",
   "metadata": {},
   "outputs": [],
   "source": []
  }
 ],
 "metadata": {
  "kernelspec": {
   "display_name": "Python 3 (ipykernel)",
   "language": "python",
   "name": "python3"
  },
  "language_info": {
   "codemirror_mode": {
    "name": "ipython",
    "version": 3
   },
   "file_extension": ".py",
   "mimetype": "text/x-python",
   "name": "python",
   "nbconvert_exporter": "python",
   "pygments_lexer": "ipython3",
   "version": "3.10.9"
  }
 },
 "nbformat": 4,
 "nbformat_minor": 5
}
