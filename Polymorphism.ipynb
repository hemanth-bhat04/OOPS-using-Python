{
 "cells": [
  {
   "cell_type": "markdown",
   "id": "8fcb2fbe",
   "metadata": {},
   "source": [
    "# Polymorphism"
   ]
  },
  {
   "cell_type": "markdown",
   "id": "f74f0144",
   "metadata": {},
   "source": [
    "# Method Overloading"
   ]
  },
  {
   "cell_type": "code",
   "execution_count": 1,
   "id": "4d41e73f",
   "metadata": {},
   "outputs": [],
   "source": [
    "def sumBetter(a,b,c=0):#traditionally not supported by py\n",
    "    if(c==0):\n",
    "        sum2(a,b)\n",
    "    else:\n",
    "        sum3(a,b,c)"
   ]
  },
  {
   "cell_type": "code",
   "execution_count": 2,
   "id": "12ee4698",
   "metadata": {},
   "outputs": [],
   "source": [
    "def sum2(a,b):\n",
    "    print(a+b)"
   ]
  },
  {
   "cell_type": "code",
   "execution_count": 3,
   "id": "3ba5949e",
   "metadata": {},
   "outputs": [],
   "source": [
    "def sum3(a,b,c):\n",
    "    print(a+b+c)"
   ]
  },
  {
   "cell_type": "code",
   "execution_count": 4,
   "id": "2def0de9",
   "metadata": {},
   "outputs": [
    {
     "name": "stdout",
     "output_type": "stream",
     "text": [
      "9\n"
     ]
    }
   ],
   "source": [
    "sumBetter(2,3,4)"
   ]
  },
  {
   "cell_type": "code",
   "execution_count": 5,
   "id": "1013519d",
   "metadata": {},
   "outputs": [
    {
     "name": "stdout",
     "output_type": "stream",
     "text": [
      "5\n"
     ]
    }
   ],
   "source": [
    "sumBetter(2,3)"
   ]
  },
  {
   "cell_type": "markdown",
   "id": "11acd940",
   "metadata": {},
   "source": [
    "# Method Overriding"
   ]
  },
  {
   "cell_type": "code",
   "execution_count": 6,
   "id": "5ee07f34",
   "metadata": {},
   "outputs": [],
   "source": [
    "class Animal:\n",
    "    def sound(self):\n",
    "        return \"Some sound\""
   ]
  },
  {
   "cell_type": "code",
   "execution_count": 7,
   "id": "edfc9494",
   "metadata": {},
   "outputs": [],
   "source": [
    "class dog(Animal):\n",
    "    def sound(self):\n",
    "        return \"Bark\"\n",
    "\n",
    "    "
   ]
  },
  {
   "cell_type": "code",
   "execution_count": 8,
   "id": "f797f854",
   "metadata": {},
   "outputs": [
    {
     "name": "stdout",
     "output_type": "stream",
     "text": [
      "Bark\n"
     ]
    }
   ],
   "source": [
    "obj = dog()\n",
    "print(obj.sound())"
   ]
  },
  {
   "cell_type": "code",
   "execution_count": 10,
   "id": "3d32a4ac",
   "metadata": {},
   "outputs": [],
   "source": [
    "obj1=Animal()"
   ]
  },
  {
   "cell_type": "code",
   "execution_count": 11,
   "id": "c7119e80",
   "metadata": {},
   "outputs": [
    {
     "name": "stdout",
     "output_type": "stream",
     "text": [
      "Some sound\n"
     ]
    }
   ],
   "source": [
    "print(obj1.sound())"
   ]
  },
  {
   "cell_type": "markdown",
   "id": "a7c11cc3",
   "metadata": {},
   "source": [
    "# Operator Overloading"
   ]
  },
  {
   "cell_type": "code",
   "execution_count": null,
   "id": "5ef65333",
   "metadata": {},
   "outputs": [],
   "source": []
  }
 ],
 "metadata": {
  "kernelspec": {
   "display_name": "Python 3 (ipykernel)",
   "language": "python",
   "name": "python3"
  },
  "language_info": {
   "codemirror_mode": {
    "name": "ipython",
    "version": 3
   },
   "file_extension": ".py",
   "mimetype": "text/x-python",
   "name": "python",
   "nbconvert_exporter": "python",
   "pygments_lexer": "ipython3",
   "version": "3.10.9"
  }
 },
 "nbformat": 4,
 "nbformat_minor": 5
}
