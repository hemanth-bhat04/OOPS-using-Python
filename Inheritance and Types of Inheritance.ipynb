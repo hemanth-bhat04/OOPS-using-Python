{
 "cells": [
  {
   "cell_type": "markdown",
   "id": "70669128",
   "metadata": {},
   "source": [
    "# Inheritance\n"
   ]
  },
  {
   "cell_type": "code",
   "execution_count": 22,
   "id": "a1258578",
   "metadata": {},
   "outputs": [],
   "source": [
    "class User:\n",
    "    def __init__(self,name,id,age,passcode):\n",
    "        self.name = name\n",
    "        self.id = id\n",
    "        self.age=age\n",
    "        self.passcode=passcode\n",
    "    def login(self):\n",
    "        print(\"P logged in\")\n",
    "    def _logout(self):\n",
    "        print(\"P logged out\")"
   ]
  },
  {
   "cell_type": "code",
   "execution_count": 23,
   "id": "a770a479",
   "metadata": {},
   "outputs": [],
   "source": [
    "class student(User):\n",
    "    def __init__(self,marks,rollno,name,id,age,passcode):\n",
    "        super().__init__(name,id,age,passcode)\n",
    "        self.marks=marks\n",
    "        self.rollno=rollno\n",
    "    def login(self):\n",
    "        print(\"OTP sent\")\n",
    "        print(\"Student logging in\")\n",
    "    "
   ]
  },
  {
   "cell_type": "code",
   "execution_count": 24,
   "id": "7896f096",
   "metadata": {},
   "outputs": [
    {
     "name": "stdout",
     "output_type": "stream",
     "text": [
      "OTP sent\n",
      "Student logging in\n",
      "P logged out\n"
     ]
    }
   ],
   "source": [
    "s1 = student(90,123,\"hemanth\",1,25,\"1234\")\n",
    "s1.login()\n",
    "s1._logout()"
   ]
  },
  {
   "cell_type": "code",
   "execution_count": 25,
   "id": "b634aa97",
   "metadata": {},
   "outputs": [],
   "source": [
    "u1 = User(\"hh\",2,12,\"123\")"
   ]
  },
  {
   "cell_type": "code",
   "execution_count": 26,
   "id": "daa46b1f",
   "metadata": {},
   "outputs": [
    {
     "data": {
      "text/plain": [
       "'hh'"
      ]
     },
     "execution_count": 26,
     "metadata": {},
     "output_type": "execute_result"
    }
   ],
   "source": [
    "u1.name"
   ]
  },
  {
   "cell_type": "code",
   "execution_count": 27,
   "id": "b09aebbd",
   "metadata": {},
   "outputs": [
    {
     "name": "stdout",
     "output_type": "stream",
     "text": [
      "P logged in\n"
     ]
    }
   ],
   "source": [
    "u1.login()"
   ]
  },
  {
   "cell_type": "code",
   "execution_count": 29,
   "id": "8b4fef46",
   "metadata": {},
   "outputs": [
    {
     "name": "stdout",
     "output_type": "stream",
     "text": [
      "P logged out\n"
     ]
    }
   ],
   "source": [
    "u1._logout()"
   ]
  },
  {
   "cell_type": "markdown",
   "id": "1109c429",
   "metadata": {},
   "source": [
    "# Types of Inheritance"
   ]
  },
  {
   "cell_type": "code",
   "execution_count": 30,
   "id": "d323ffab",
   "metadata": {},
   "outputs": [],
   "source": [
    "class User1:\n",
    "    def __init__(self):\n",
    "        print(\"User constructor\")\n",
    "        self.website=\"www.flipkart.com\"\n",
    "        self._field=\"ecommerce\"#protected\n",
    "        self.__duration=\"12 months\"#private\n",
    "    def login(self):\n",
    "        print(\"logged in\")\n",
    "    def _logout(self):\n",
    "        print(\"logged out\")"
   ]
  },
  {
   "cell_type": "code",
   "execution_count": 37,
   "id": "22d7ef94",
   "metadata": {},
   "outputs": [],
   "source": [
    "class buyer(User1):\n",
    "    def __init__(self):\n",
    "        print(\"Buyer constructor\")\n",
    "        super().__init__()\n",
    "        self.name = \"hemanth\"\n",
    "        \n",
    "    def login(self):\n",
    "        super()._logout()"
   ]
  },
  {
   "cell_type": "code",
   "execution_count": 38,
   "id": "f08f2ede",
   "metadata": {},
   "outputs": [
    {
     "name": "stdout",
     "output_type": "stream",
     "text": [
      "Buyer constructor\n",
      "User constructor\n"
     ]
    }
   ],
   "source": [
    "b1=buyer()"
   ]
  },
  {
   "cell_type": "code",
   "execution_count": 39,
   "id": "c954a032",
   "metadata": {},
   "outputs": [
    {
     "data": {
      "text/plain": [
       "('hemanth', 'www.flipkart.com')"
      ]
     },
     "execution_count": 39,
     "metadata": {},
     "output_type": "execute_result"
    }
   ],
   "source": [
    "b1.name, b1.website"
   ]
  },
  {
   "cell_type": "code",
   "execution_count": 40,
   "id": "15e23623",
   "metadata": {},
   "outputs": [
    {
     "name": "stdout",
     "output_type": "stream",
     "text": [
      "logged out\n"
     ]
    }
   ],
   "source": [
    "b1.login()"
   ]
  },
  {
   "cell_type": "code",
   "execution_count": 43,
   "id": "46342615",
   "metadata": {},
   "outputs": [
    {
     "name": "stdout",
     "output_type": "stream",
     "text": [
      "logged out\n"
     ]
    }
   ],
   "source": [
    "b1._logout()"
   ]
  },
  {
   "cell_type": "markdown",
   "id": "bce6402e",
   "metadata": {},
   "source": [
    "# Single Inheritance"
   ]
  },
  {
   "cell_type": "code",
   "execution_count": 52,
   "id": "aea725a7",
   "metadata": {},
   "outputs": [],
   "source": [
    "# Single Inheritance Example\n",
    "\n",
    "class Grandfather:\n",
    "    def __init__(self, name, age):\n",
    "        self.name = name\n",
    "        self.age = age\n",
    "        \n",
    "    def show_details(self):\n",
    "        return f'Name: {self.name}, Age: {self.age}'\n",
    "        \n",
    "    def speak(self):\n",
    "        return 'Grandfather speaks wisely.'\n",
    "\n",
    "class Father(Grandfather):\n",
    "    def __init__(self, name, age, occupation):\n",
    "        super().__init__(name, age)\n",
    "        self.occupation = occupation\n",
    "        \n",
    "    def show_occupation(self):\n",
    "        return f'Occupation: {self.occupation}'\n",
    "    \n",
    "    def speak(self):\n",
    "        return 'Father speaks carefully.'\n"
   ]
  },
  {
   "cell_type": "code",
   "execution_count": 54,
   "id": "da8c5c3f",
   "metadata": {
    "scrolled": true
   },
   "outputs": [
    {
     "name": "stdout",
     "output_type": "stream",
     "text": [
      "Name: John, Age: 50\n",
      "Occupation: Engineer\n",
      "Father speaks carefully.\n"
     ]
    }
   ],
   "source": [
    "\n",
    "# Creating an object of the Father class\n",
    "father_obj = Father('John', 50, 'Engineer')\n",
    "print(father_obj.show_details())\n",
    "print(father_obj.show_occupation())\n",
    "print(father_obj.speak())"
   ]
  },
  {
   "cell_type": "markdown",
   "id": "d67637f2",
   "metadata": {},
   "source": [
    "# Hierarchical Inheritance"
   ]
  },
  {
   "cell_type": "code",
   "execution_count": 55,
   "id": "fca6a90e",
   "metadata": {},
   "outputs": [
    {
     "name": "stdout",
     "output_type": "stream",
     "text": [
      "Name: Alice, Age: 20\n",
      "Hobby: Painting\n",
      "Child1 speaks enthusiastically.\n",
      "Name: Bob, Age: 22\n",
      "Favorite Subject: Mathematics\n",
      "Child2 speaks thoughtfully.\n"
     ]
    }
   ],
   "source": [
    "# Hierarchical Inheritance Example\n",
    "\n",
    "class Grandfather:\n",
    "    def __init__(self, name, age):\n",
    "        self.name = name\n",
    "        self.age = age\n",
    "        \n",
    "    def show_details(self):\n",
    "        return f'Name: {self.name}, Age: {self.age}'\n",
    "        \n",
    "    def speak(self):\n",
    "        return 'Grandfather speaks wisely.'\n",
    "\n",
    "class Child1(Grandfather):\n",
    "    def __init__(self, name, age, hobby):\n",
    "        super().__init__(name, age)\n",
    "        self.hobby = hobby\n",
    "        \n",
    "    def show_hobby(self):\n",
    "        return f'Hobby: {self.hobby}'\n",
    "    \n",
    "    def speak(self):\n",
    "        return 'Child1 speaks enthusiastically.'\n",
    "\n",
    "class Child2(Grandfather):\n",
    "    def __init__(self, name, age, favorite_subject):\n",
    "        super().__init__(name, age)\n",
    "        self.favorite_subject = favorite_subject\n",
    "        \n",
    "    def show_favorite_subject(self):\n",
    "        return f'Favorite Subject: {self.favorite_subject}'\n",
    "    \n",
    "    def speak(self):\n",
    "        return 'Child2 speaks thoughtfully.'\n",
    "\n",
    "# Creating objects of Child1 and Child2 classes\n",
    "child1_obj = Child1('Alice', 20, 'Painting')\n",
    "child2_obj = Child2('Bob', 22, 'Mathematics')\n",
    "print(child1_obj.show_details())\n",
    "print(child1_obj.show_hobby())\n",
    "print(child1_obj.speak())\n",
    "\n",
    "print(child2_obj.show_details())\n",
    "print(child2_obj.show_favorite_subject())\n",
    "print(child2_obj.speak())"
   ]
  },
  {
   "cell_type": "markdown",
   "id": "bc6869c5",
   "metadata": {},
   "source": [
    "# Multilevel Inheritance"
   ]
  },
  {
   "cell_type": "code",
   "execution_count": 57,
   "id": "7ac5ab60",
   "metadata": {},
   "outputs": [
    {
     "name": "stdout",
     "output_type": "stream",
     "text": [
      "Name: Charlie, Age: 18\n",
      "Occupation: Engineer\n",
      "Hobby: Cycling\n",
      "Child speaks excitedly.\n"
     ]
    }
   ],
   "source": [
    "# Multilevel Inheritance Example\n",
    "\n",
    "class Grandfather:\n",
    "    def __init__(self, name, age):\n",
    "        self.name = name\n",
    "        self.age = age\n",
    "        \n",
    "    def show_details(self):\n",
    "        return f'Name: {self.name}, Age: {self.age}'\n",
    "        \n",
    "    def speak(self):\n",
    "        return 'Grandfather speaks wisely.'\n",
    "\n",
    "class Father(Grandfather):\n",
    "    def __init__(self, name, age, occupation):\n",
    "        super().__init__(name, age)\n",
    "        self.occupation = occupation\n",
    "        \n",
    "    def show_occupation(self):\n",
    "        return f'Occupation: {self.occupation}'\n",
    "    \n",
    "    def speak(self):\n",
    "        return 'Father speaks carefully.'\n",
    "\n",
    "class Child(Father):\n",
    "    def __init__(self, name, age, hobby):\n",
    "        super().__init__(name, age, 'Engineer')\n",
    "        self.hobby = hobby\n",
    "        \n",
    "    def show_hobby(self):\n",
    "        return f'Hobby: {self.hobby}'\n",
    "    \n",
    "    def speak(self):\n",
    "        return 'Child speaks excitedly.'\n",
    "\n",
    "# Creating an object of the Child class\n",
    "child_obj = Child('Charlie', 18, 'Cycling')\n",
    "print(child_obj.show_details())\n",
    "print(child_obj.show_occupation())\n",
    "print(child_obj.show_hobby())\n",
    "print(child_obj.speak())"
   ]
  },
  {
   "cell_type": "markdown",
   "id": "49ab711a",
   "metadata": {},
   "source": [
    "# Multiple Inheritance"
   ]
  },
  {
   "cell_type": "code",
   "execution_count": 58,
   "id": "c9e41ff0",
   "metadata": {},
   "outputs": [
    {
     "name": "stdout",
     "output_type": "stream",
     "text": [
      "Name: Daisy, Age: 16\n",
      "Favorite Food: Pizza\n",
      "Hobby: Dancing\n",
      "Child speaks excitedly.\n"
     ]
    }
   ],
   "source": [
    "# Multiple Inheritance Example\n",
    "\n",
    "class Father:\n",
    "    def __init__(self, name, age):\n",
    "        self.name = name\n",
    "        self.age = age\n",
    "        \n",
    "    def show_details(self):\n",
    "        return f'Name: {self.name}, Age: {self.age}'\n",
    "        \n",
    "    def speak(self):\n",
    "        return 'Father speaks carefully.'\n",
    "\n",
    "class Mother:\n",
    "    def __init__(self, name, favorite_food):\n",
    "        self.name = name\n",
    "        self.favorite_food = favorite_food\n",
    "        \n",
    "    def show_favorite_food(self):\n",
    "        return f'Favorite Food: {self.favorite_food}'\n",
    "        \n",
    "    def speak(self):\n",
    "        return 'Mother speaks lovingly.'\n",
    "\n",
    "class Child(Father, Mother):\n",
    "    def __init__(self, name, age, favorite_food, hobby):\n",
    "        Father.__init__(self, name, age)\n",
    "        Mother.__init__(self, name, favorite_food)\n",
    "        self.hobby = hobby\n",
    "        \n",
    "    def show_hobby(self):\n",
    "        return f'Hobby: {self.hobby}'\n",
    "    \n",
    "    def speak(self):\n",
    "        return 'Child speaks excitedly.'\n",
    "\n",
    "# Creating an object of the Child class\n",
    "child_obj = Child('Daisy', 16, 'Pizza', 'Dancing')\n",
    "print(child_obj.show_details())\n",
    "print(child_obj.show_favorite_food())\n",
    "print(child_obj.show_hobby())\n",
    "print(child_obj.speak())"
   ]
  },
  {
   "cell_type": "markdown",
   "id": "5364a503",
   "metadata": {},
   "source": [
    "# Hybrid Inheritance"
   ]
  },
  {
   "cell_type": "code",
   "execution_count": 59,
   "id": "6c5f9ae5",
   "metadata": {},
   "outputs": [
    {
     "name": "stdout",
     "output_type": "stream",
     "text": [
      "Name: Eve, Age: 15\n",
      "Favorite Food: Pasta\n",
      "Occupation: Engineer\n",
      "Hobby: Reading\n",
      "Child speaks excitedly.\n"
     ]
    }
   ],
   "source": [
    "# Hybrid Inheritance Example\n",
    "\n",
    "class Grandfather:\n",
    "    def __init__(self, name, age):\n",
    "        self.name = name\n",
    "        self.age = age\n",
    "        \n",
    "    def show_details(self):\n",
    "        return f'Name: {self.name}, Age: {self.age}'\n",
    "        \n",
    "    def speak(self):\n",
    "        return 'Grandfather speaks wisely.'\n",
    "\n",
    "class Father(Grandfather):\n",
    "    def __init__(self, name, age, occupation):\n",
    "        super().__init__(name, age)\n",
    "        self.occupation = occupation\n",
    "        \n",
    "    def show_occupation(self):\n",
    "        return f'Occupation: {self.occupation}'\n",
    "    \n",
    "    def speak(self):\n",
    "        return 'Father speaks carefully.'\n",
    "\n",
    "class Mother:\n",
    "    def __init__(self, name, favorite_food):\n",
    "        self.name = name\n",
    "        self.favorite_food = favorite_food\n",
    "        \n",
    "    def show_favorite_food(self):\n",
    "        return f'Favorite Food: {self.favorite_food}'\n",
    "        \n",
    "    def speak(self):\n",
    "        return 'Mother speaks lovingly.'\n",
    "\n",
    "class Child(Father, Mother):\n",
    "    def __init__(self, name, age, favorite_food, hobby):\n",
    "        Father.__init__(self, name, age, 'Engineer')\n",
    "        Mother.__init__(self, name, favorite_food)\n",
    "        self.hobby = hobby\n",
    "        \n",
    "    def show_hobby(self):\n",
    "        return f'Hobby: {self.hobby}'\n",
    "    \n",
    "    def speak(self):\n",
    "        return 'Child speaks excitedly.'\n",
    "\n",
    "# Creating an object of the Child class\n",
    "child_obj = Child('Eve', 15, 'Pasta', 'Reading')\n",
    "print(child_obj.show_details())\n",
    "print(child_obj.show_favorite_food())\n",
    "print(child_obj.show_occupation())\n",
    "print(child_obj.show_hobby())\n",
    "print(child_obj.speak())"
   ]
  },
  {
   "cell_type": "code",
   "execution_count": null,
   "id": "322f8d1d",
   "metadata": {},
   "outputs": [],
   "source": []
  }
 ],
 "metadata": {
  "kernelspec": {
   "display_name": "Python 3 (ipykernel)",
   "language": "python",
   "name": "python3"
  },
  "language_info": {
   "codemirror_mode": {
    "name": "ipython",
    "version": 3
   },
   "file_extension": ".py",
   "mimetype": "text/x-python",
   "name": "python",
   "nbconvert_exporter": "python",
   "pygments_lexer": "ipython3",
   "version": "3.10.9"
  }
 },
 "nbformat": 4,
 "nbformat_minor": 5
}
